{
 "cells": [
  {
   "cell_type": "code",
   "execution_count": 89,
   "id": "a820c926",
   "metadata": {},
   "outputs": [
    {
     "name": "stdout",
     "output_type": "stream",
     "text": [
      "\n",
      "Dafny program verifier finished with 1 verified, 0 errors\n",
      "\n"
     ]
    }
   ],
   "source": [
    "import subprocess\n",
    "\n",
    "#Generate .smt2 file in Dafny\n",
    "\n",
    "#set the information\n",
    "shell_used = \"powershell\" #The shell used\n",
    "Dafny_path = \"~/.vscode/extensions/dafny-lang.ide-vscode-3.2.1/out/resources/4.3.0/github/dafny\" #dafny directory path\n",
    "dfy_fpath = \"./Dafny_file.dfy\" # .dfy file path\n",
    "smt2_fname = \"Dafny_VC.smt2\" # .smt2 file name \n",
    "smt2_generation_cmd = \"./dafny verify --solver-log \" + smt2_fname + \" --boogie /normalizeNames:0 \" + dfy_fpath\n",
    "command = [shell_used, \"cd \" + Dafny_path +\";\" + smt2_generation_cmd]\n",
    "\n",
    "# Execute the command \n",
    "result = subprocess.run(command, capture_output=True, text=True)\n",
    "\n",
    "# Print the output\n",
    "print(result.stdout)"
   ]
  },
  {
   "cell_type": "code",
   "execution_count": 90,
   "id": "7ed19640",
   "metadata": {},
   "outputs": [
    {
     "name": "stdout",
     "output_type": "stream",
     "text": [
      "There are 3 push and pop pairs now\n"
     ]
    }
   ],
   "source": [
    "# Copy and paste push pop pairs in the smt2 file just generated\n",
    "import os\n",
    "\n",
    "def duplicate_lines(filename, dup_times):\n",
    "    with open(filename, 'r') as file:\n",
    "        lines = file.readlines()\n",
    "\n",
    "    # Find the positions of push and pop lines\n",
    "    start_line = None\n",
    "    end_line = None\n",
    "    for i, line in enumerate(lines):\n",
    "        if '(push 1)' in line:\n",
    "            start_line = i\n",
    "        elif '(pop 1)' in line:\n",
    "            end_line = i\n",
    "            break\n",
    "\n",
    "    if start_line is not None and end_line is not None:\n",
    "        # Extract the section to duplicate\n",
    "        section_to_duplicate = lines[start_line:end_line + 1]\n",
    "        \n",
    "        # Duplicate the section several times as asked\n",
    "        duplicated_section = section_to_duplicate * (dup_times)\n",
    "        \n",
    "        start_insert = end_line+1\n",
    "        for j in range(len(duplicated_section)):\n",
    "            lines.insert(start_insert,duplicated_section[j])\n",
    "            start_insert += 1\n",
    "\n",
    "        # Rewrite the .smt2 file\n",
    "        with open(filename, 'w') as output_file:\n",
    "            output_file.writelines(lines)\n",
    "            \n",
    "        #count total number of push pop pairs in the file\n",
    "        count = 0\n",
    "        for i, line in enumerate(lines):\n",
    "            if '(push 1)' in line:\n",
    "                count += 1\n",
    "        print(\"There are\", count, \"push and pop pairs now\")\n",
    "        \n",
    "    else:\n",
    "        print(\"Commands not found in file.\")\n",
    "\n",
    "# Usage\n",
    "smt2_path = os.path.expanduser(Dafny_path + '/' + smt2_fname) \n",
    "duplicate_lines(smt2_path, 2)"
   ]
  },
  {
   "cell_type": "code",
   "execution_count": 91,
   "id": "93763904",
   "metadata": {},
   "outputs": [
    {
     "name": "stdout",
     "output_type": "stream",
     "text": [
      "CompletedProcess(args='start powershell -NoExit -Command \"cd \\'~/.vscode/extensions/dafny-lang.ide-vscode-3.2.1/out/resources/4.3.0/github/dafny\\'; hyperfine -i .\\\\z3\\\\bin\\\\z3-4.12.1.exeDafny_VC.smt2\"', returncode=0)\n"
     ]
    }
   ],
   "source": [
    "# Measuring the proving time\n",
    "\n",
    "command = f'start powershell -NoExit -Command \"cd \\'{Dafny_path}\\'; hyperfine -i .\\\\z3\\\\bin\\\\z3-4.12.1.exe{smt2_fname}\"'\n",
    "# Execute the command \n",
    "result = subprocess.run(command, shell=True, capture_output=False, text=False)\n",
    "\n",
    "#Print the output\n",
    "print(result)"
   ]
  },
  {
   "cell_type": "code",
   "execution_count": 95,
   "id": "4deddb05",
   "metadata": {},
   "outputs": [
    {
     "name": "stdout",
     "output_type": "stream",
     "text": [
      "CompletedProcess(args=['powershell', 'cd E:/Verus/verus/source/target-verus/release;./verus --log-smt ./Verus_file.rs'], returncode=0, stdout='verification results:: 2 verified, 0 errors\\n', stderr='')\n"
     ]
    }
   ],
   "source": [
    "#Generate .smt2 file in Verus\n",
    "\n",
    "#set the information\n",
    "shell_used = \"powershell\" #The shell used\n",
    "Verus_path = \"E:/Verus/verus/source/target-verus/release\" #Verus directory path (must go to release!!!!!)\n",
    "Verus_fpath = \"./Verus_file.rs\" # .rs file path\n",
    "smt2_generation_cmd = \"./verus --log-smt \" + Verus_fpath\n",
    "command = [shell_used, \"cd \" + Verus_path +\";\" + smt2_generation_cmd]\n",
    "\n",
    "# Execute the command \n",
    "result = subprocess.run(command, capture_output=True, text=True)\n",
    "\n",
    "# Print the output\n",
    "print(result)"
   ]
  },
  {
   "cell_type": "code",
   "execution_count": 108,
   "id": "0f8da90d",
   "metadata": {},
   "outputs": [
    {
     "name": "stdout",
     "output_type": "stream",
     "text": [
      "There are 12011 push and pop pairs now\n"
     ]
    }
   ],
   "source": [
    "# Copy and paste push pop pairs in the smt2 file just generated\n",
    "import os\n",
    "\n",
    "def duplicate_lines(filename, dup_times):\n",
    "    with open(filename, 'r') as file:\n",
    "        lines = file.readlines()\n",
    "\n",
    "    # Find the positions of push and pop lines\n",
    "    start_line = None\n",
    "    end_line = None\n",
    "    for i, line in enumerate(lines):\n",
    "        if '(push)' in line:\n",
    "            start_line = i\n",
    "        elif '(pop)' in line:\n",
    "            end_line = i\n",
    "            break\n",
    "\n",
    "    if start_line is not None and end_line is not None:\n",
    "        # Extract the section to duplicate\n",
    "        section_to_duplicate = lines[start_line:end_line + 1]\n",
    "        \n",
    "        # Duplicate the section several times as asked\n",
    "        duplicated_section = section_to_duplicate * (dup_times)\n",
    "        \n",
    "        start_insert = end_line+1\n",
    "        for j in range(len(duplicated_section)):\n",
    "            lines.insert(start_insert,duplicated_section[j])\n",
    "            start_insert += 1\n",
    "\n",
    "        # Rewrite the .smt2 file\n",
    "        with open(filename, 'w') as output_file:\n",
    "            output_file.writelines(lines)\n",
    "            \n",
    "        #count total number of push pop pairs in the file\n",
    "        count = 0\n",
    "        for i, line in enumerate(lines):\n",
    "            if '(push)' in line:\n",
    "                count += 1\n",
    "        print(\"There are\", count-1, \"push and pop pairs now\")\n",
    "        \n",
    "    else:\n",
    "        print(\"Commands not found in file.\")\n",
    "\n",
    "# Usage\n",
    "smt2_path = os.path.expanduser(Verus_path + '/.verus-log/root.smt2') \n",
    "duplicate_lines(smt2_path, 5000)"
   ]
  },
  {
   "cell_type": "code",
   "execution_count": 110,
   "id": "d6507b03",
   "metadata": {},
   "outputs": [],
   "source": [
    "# Measuring the proving time\n",
    "\n",
    "command = f'start powershell -NoExit -Command \"cd \\'{Verus_path}\\'; hyperfine -i .\\\\z3.exe./.verus-log/root.smt2\"'\n",
    "# Execute the command \n",
    "result = subprocess.run(command, shell=True, capture_output=False, text=False)\n",
    "\n",
    "#Print the output\n",
    "#print(result)"
   ]
  },
  {
   "cell_type": "code",
   "execution_count": null,
   "id": "93e0cfd8",
   "metadata": {},
   "outputs": [],
   "source": []
  }
 ],
 "metadata": {
  "kernelspec": {
   "display_name": "Python 3 (ipykernel)",
   "language": "python",
   "name": "python3"
  },
  "language_info": {
   "codemirror_mode": {
    "name": "ipython",
    "version": 3
   },
   "file_extension": ".py",
   "mimetype": "text/x-python",
   "name": "python",
   "nbconvert_exporter": "python",
   "pygments_lexer": "ipython3",
   "version": "3.9.12"
  }
 },
 "nbformat": 4,
 "nbformat_minor": 5
}
