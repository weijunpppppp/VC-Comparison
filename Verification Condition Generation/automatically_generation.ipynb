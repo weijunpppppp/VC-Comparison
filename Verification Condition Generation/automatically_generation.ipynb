{
 "cells": [
  {
   "cell_type": "code",
   "execution_count": 1,
   "id": "a820c926",
   "metadata": {},
   "outputs": [
    {
     "name": "stdout",
     "output_type": "stream",
     "text": [
      "\n",
      "Dafny program verifier finished with 1 verified, 0 errors\n",
      "\n"
     ]
    }
   ],
   "source": [
    "import subprocess\n",
    "\n",
    "#Generate .smt2 file in Dafny\n",
    "\n",
    "#set the information\n",
    "shell_used = \"powershell\" #The shell used\n",
    "Dafny_path = \"~/.vscode/extensions/dafny-lang.ide-vscode-3.2.1/out/resources/4.3.0/github/dafny\" #dafny directory path\n",
    "dfy_fpath = \"./Dafny_file.dfy\" # .dfy file path\n",
    "smt2_fname = \"Dafny_VC.smt2\" # .smt2 file name \n",
    "smt2_generation_cmd = \"./dafny verify --solver-log \" + smt2_fname + \" --boogie /normalizeNames:0 \" + dfy_fpath\n",
    "command = [shell_used, \"cd \" + Dafny_path +\";\" + smt2_generation_cmd]\n",
    "\n",
    "# Execute the command \n",
    "result = subprocess.run(command, capture_output=True, text=True)\n",
    "\n",
    "# Print the output\n",
    "print(result.stdout)"
   ]
  },
  {
   "cell_type": "code",
   "execution_count": 26,
   "id": "7ed19640",
   "metadata": {},
   "outputs": [
    {
     "name": "stdout",
     "output_type": "stream",
     "text": [
      "There are 21 push and pop pairs now\n"
     ]
    }
   ],
   "source": [
    "# Copy and paste push pop pairs in the smt2 file just generated\n",
    "import os\n",
    "\n",
    "def duplicate_lines(filename, dup_times):\n",
    "    with open(filename, 'r') as file:\n",
    "        lines = file.readlines()\n",
    "\n",
    "    # Find the positions of push and pop lines\n",
    "    start_line = None\n",
    "    end_line = None\n",
    "    for i, line in enumerate(lines):\n",
    "        if '(push 1)' in line:\n",
    "            start_line = i\n",
    "        elif '(pop 1)' in line:\n",
    "            end_line = i\n",
    "            break\n",
    "\n",
    "    if start_line is not None and end_line is not None:\n",
    "        # Extract the section to duplicate\n",
    "        section_to_duplicate = lines[start_line:end_line + 1]\n",
    "        \n",
    "        # Duplicate the section several times as asked\n",
    "        duplicated_section = section_to_duplicate * (dup_times)\n",
    "        \n",
    "        start_insert = end_line+1\n",
    "        for j in range(len(duplicated_section)):\n",
    "            lines.insert(start_insert,duplicated_section[j])\n",
    "            start_insert += 1\n",
    "\n",
    "        # Rewrite the .smt2 file\n",
    "        with open(filename, 'w') as output_file:\n",
    "            output_file.writelines(lines)\n",
    "            \n",
    "        #count total number of push pop pairs in the file\n",
    "        count = 0\n",
    "        for i, line in enumerate(lines):\n",
    "            if '(push 1)' in line:\n",
    "                count += 1\n",
    "        print(\"There are\", count, \"push and pop pairs now\")\n",
    "        \n",
    "    else:\n",
    "        print(\"Commands not found in file.\")\n",
    "\n",
    "# Usage\n",
    "smt2_path = os.path.expanduser(Dafny_path + '/' + smt2_fname) \n",
    "duplicate_lines(smt2_path, 10)"
   ]
  },
  {
   "cell_type": "code",
   "execution_count": 25,
   "id": "93763904",
   "metadata": {},
   "outputs": [
    {
     "name": "stdout",
     "output_type": "stream",
     "text": [
      "Benchmark 1: .\\z3\\bin\\z3-4.12.1.exe Dafny_VC.smt2\n",
      "  Time (mean ± σ):      32.2 ms ±   1.0 ms    [User: 14.9 ms, System: 0.2 ms]\n",
      "  Range (min … max):    30.6 ms …  34.4 ms    72 runs\n",
      " \n",
      "\n",
      "32.2\n"
     ]
    }
   ],
   "source": [
    "# Measuring the proving time\n",
    "\n",
    "#command = f'start powershell -NoExit -Command \"cd \\'{Dafny_path}\\'; hyperfine \\'.\\\\z3\\\\bin\\\\z3-4.12.1.exe {smt2_fname}\\'\"'\n",
    "#command = [shell_used, \"cd \" + Dafny_path +\";\" + \"hyperfine \\'.\\\\z3\\\\bin\\\\z3-4.12.1.exe {smt2_fname}\\'\"]\n",
    "command = [shell_used, \"cd \" + Dafny_path +\";\" + \"hyperfine \\'.\\\\z3\\\\bin\\\\z3-4.12.1.exe \" + smt2_fname + \"\\'\"]\n",
    "\n",
    "# Execute the command \n",
    "result = subprocess.run(command, capture_output=True, text=True, encoding='utf-8')\n",
    "\n",
    "#Print the output\n",
    "output = result.stdout\n",
    "print(output)\n",
    "\n",
    "def grab_time(output):\n",
    "    flag = False\n",
    "    for i in range(len(output)):\n",
    "        if output[i] == '\\n':\n",
    "            flag = True\n",
    "            continue\n",
    "        if output[i:i+2] == \"ms\" and flag == True:\n",
    "            return float(output[i-5:i-1])\n",
    "    return -1\n",
    "\n",
    "print(grab_time(output))\n",
    "            "
   ]
  },
  {
   "cell_type": "code",
   "execution_count": 37,
   "id": "f884cc02-b28a-4d15-8558-02993f30396f",
   "metadata": {},
   "outputs": [
    {
     "name": "stdout",
     "output_type": "stream",
     "text": [
      "\n",
      "Dafny program verifier finished with 1 verified, 0 errors\n",
      "\n",
      "There are 10 push and pop pairs now\n",
      "There are 20 push and pop pairs now\n",
      "There are 30 push and pop pairs now\n",
      "There are 40 push and pop pairs now\n",
      "There are 50 push and pop pairs now\n",
      "There are 60 push and pop pairs now\n",
      "There are 70 push and pop pairs now\n",
      "There are 80 push and pop pairs now\n",
      "There are 90 push and pop pairs now\n",
      "There are 100 push and pop pairs now\n"
     ]
    },
    {
     "data": {
      "image/png": "[encoded data removed]",
      "text/plain": [
       "<Figure size 640x480 with 1 Axes>"
      ]
     },
     "metadata": {},
     "output_type": "display_data"
    }
   ],
   "source": [
    "import subprocess\n",
    "import os\n",
    "import numpy as np\n",
    "from matplotlib import pyplot as plt\n",
    "\n",
    "def time_analysis(pairNum_list):\n",
    "    #Generate .smt2 file in Dafny\n",
    "    #set the information\n",
    "    shell_used = \"powershell\" #The shell used\n",
    "    Dafny_path = \"~/.vscode/extensions/dafny-lang.ide-vscode-3.2.1/out/resources/4.3.0/github/dafny\" #dafny directory path\n",
    "    dfy_fpath = \"./Dafny_file.dfy\" # .dfy file path\n",
    "    smt2_fname = \"Dafny_VC.smt2\" # .smt2 file name \n",
    "    smt2_generation_cmd = \"./dafny verify --solver-log \" + smt2_fname + \" --boogie /normalizeNames:0 \" + dfy_fpath\n",
    "    command = [shell_used, \"cd \" + Dafny_path +\";\" + smt2_generation_cmd]\n",
    "    \n",
    "    # Execute the command \n",
    "    result = subprocess.run(command, capture_output=True, text=True)\n",
    "    \n",
    "    # Print the output\n",
    "    print(result.stdout)\n",
    "    \n",
    "    smt2_path = os.path.expanduser(Dafny_path + '/' + smt2_fname) \n",
    "    command = [shell_used, \"cd \" + Dafny_path +\";\" + \"hyperfine \\'.\\\\z3\\\\bin\\\\z3-4.12.1.exe \" + smt2_fname + \"\\'\"]\n",
    "\n",
    "    times = []\n",
    "    previous = 1\n",
    "    for i in pairNum_list:\n",
    "        duplicate_lines(smt2_path, i-previous)\n",
    "        result = subprocess.run(command, capture_output=True, text=True, encoding='utf-8')\n",
    "        previous = i\n",
    "        times.append(grab_time(result.stdout))\n",
    "\n",
    "    #draw the picture for time depends on pair_number\n",
    "    plt.figure()\n",
    "    plt.scatter(pairNum_list, times)\n",
    "    plt.xlabel('$pairs$')\n",
    "    plt.ylabel('$time(ms)$')\n",
    "    plt.title('time_analysis')\n",
    "    plt.show()\n",
    "\n",
    "time_analysis([10,20,30,40,50,60,70,80,90,100])\n"
   ]
  },
  {
   "cell_type": "code",
   "execution_count": 95,
   "id": "4deddb05",
   "metadata": {},
   "outputs": [
    {
     "name": "stdout",
     "output_type": "stream",
     "text": [
      "CompletedProcess(args=['powershell', 'cd E:/Verus/verus/source/target-verus/release;./verus --log-smt ./Verus_file.rs'], returncode=0, stdout='verification results:: 2 verified, 0 errors\\n', stderr='')\n"
     ]
    }
   ],
   "source": [
    "#Generate .smt2 file in Verus\n",
    "\n",
    "#set the information\n",
    "shell_used = \"powershell\" #The shell used\n",
    "Verus_path = \"E:/Verus/verus/source/target-verus/release\" #Verus directory path (must go to release!!!!!)\n",
    "Verus_fpath = \"./Verus_file.rs\" # .rs file path\n",
    "smt2_generation_cmd = \"./verus --log-smt \" + Verus_fpath\n",
    "command = [shell_used, \"cd \" + Verus_path +\";\" + smt2_generation_cmd]\n",
    "\n",
    "# Execute the command \n",
    "result = subprocess.run(command, capture_output=True, text=True)\n",
    "\n",
    "# Print the output\n",
    "print(result)"
   ]
  },
  {
   "cell_type": "code",
   "execution_count": 108,
   "id": "0f8da90d",
   "metadata": {},
   "outputs": [
    {
     "name": "stdout",
     "output_type": "stream",
     "text": [
      "There are 12011 push and pop pairs now\n"
     ]
    }
   ],
   "source": [
    "# Copy and paste push pop pairs in the smt2 file just generated\n",
    "import os\n",
    "\n",
    "def duplicate_lines(filename, dup_times):\n",
    "    with open(filename, 'r') as file:\n",
    "        lines = file.readlines()\n",
    "\n",
    "    # Find the positions of push and pop lines\n",
    "    start_line = None\n",
    "    end_line = None\n",
    "    for i, line in enumerate(lines):\n",
    "        if '(push)' in line:\n",
    "            start_line = i\n",
    "        elif '(pop)' in line:\n",
    "            end_line = i\n",
    "            break\n",
    "\n",
    "    if start_line is not None and end_line is not None:\n",
    "        # Extract the section to duplicate\n",
    "        section_to_duplicate = lines[start_line:end_line + 1]\n",
    "        \n",
    "        # Duplicate the section several times as asked\n",
    "        duplicated_section = section_to_duplicate * (dup_times)\n",
    "        \n",
    "        start_insert = end_line+1\n",
    "        for j in range(len(duplicated_section)):\n",
    "            lines.insert(start_insert,duplicated_section[j])\n",
    "            start_insert += 1\n",
    "\n",
    "        # Rewrite the .smt2 file\n",
    "        with open(filename, 'w') as output_file:\n",
    "            output_file.writelines(lines)\n",
    "            \n",
    "        #count total number of push pop pairs in the file\n",
    "        count = 0\n",
    "        for i, line in enumerate(lines):\n",
    "            if '(push)' in line:\n",
    "                count += 1\n",
    "        print(\"There are\", count-1, \"push and pop pairs now\")\n",
    "        \n",
    "    else:\n",
    "        print(\"Commands not found in file.\")\n",
    "\n",
    "# Usage\n",
    "smt2_path = os.path.expanduser(Verus_path + '/.verus-log/root.smt2') \n",
    "duplicate_lines(smt2_path, 5000)"
   ]
  },
  {
   "cell_type": "code",
   "execution_count": 110,
   "id": "d6507b03",
   "metadata": {},
   "outputs": [],
   "source": [
    "# Measuring the proving time\n",
    "\n",
    "command = f'start powershell -NoExit -Command \"cd \\'{Verus_path}\\'; hyperfine  \\'.\\\\z3.exe./.verus-log/root.smt2\\'\"'\n",
    "# Execute the command \n",
    "result = subprocess.run(command, shell=True, capture_output=False, text=False)\n",
    "\n",
    "#Print the output\n",
    "#print(result)"
   ]
  },
  {
   "cell_type": "code",
   "execution_count": null,
   "id": "93e0cfd8",
   "metadata": {},
   "outputs": [],
   "source": []
  }
 ],
 "metadata": {
  "kernelspec": {
   "display_name": "Python 3 (ipykernel)",
   "language": "python",
   "name": "python3"
  },
  "language_info": {
   "codemirror_mode": {
    "name": "ipython",
    "version": 3
   },
   "file_extension": ".py",
   "mimetype": "text/x-python",
   "name": "python",
   "nbconvert_exporter": "python",
   "pygments_lexer": "ipython3",
   "version": "3.11.4"
  }
 },
 "nbformat": 4,
 "nbformat_minor": 5
}
