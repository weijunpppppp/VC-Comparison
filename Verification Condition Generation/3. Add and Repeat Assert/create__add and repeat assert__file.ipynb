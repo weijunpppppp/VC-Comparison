{
 "cells": [
  {
   "cell_type": "code",
   "execution_count": 70,
   "id": "5013a00a",
   "metadata": {},
   "outputs": [],
   "source": [
    "import random\n",
    "\n",
    "def DafRepeatWriteRandomAssert(f, times):\n",
    "    f.write(\"method Testing()\\n{\\n\")\n",
    "        \n",
    "    for i in range(times):\n",
    "        a = random.randint(1,20)\n",
    "        b = random.randint(1,20)\n",
    "        f.write(\"\\tassert add(\" + str(a) + \",\" + str(b) + \")==\" + str(a+b) + \";\\n\")\n",
    "        \n",
    "    f.write(\"}\\n\")\n",
    "        \n",
    "#Dafny file\n",
    "f = open(\"DafnyFile.dfy\", \"w\")\n",
    "f.write(\"function add(a: int, b: int): int\\n{\\n\\ta + b\\n}\\n\\n\\n\")\n",
    "DafRepeatWriteRandomAssert(f, 800)\n",
    "f.close()\n"
   ]
  },
  {
   "cell_type": "code",
   "execution_count": 71,
   "id": "8f3df1b5",
   "metadata": {},
   "outputs": [],
   "source": [
    "import random\n",
    "\n",
    "def VerRepeatWriteRandomAssert(f, times):\n",
    "    f.write(\"proof fn Testing()\\n{\\n\")\n",
    "    \n",
    "    for i in range(times):\n",
    "        a = random.randint(1,20)\n",
    "        b = random.randint(1,20)\n",
    "        f.write(\"\\tassert(add(\"+ str(a) + \",\" + str(b) + \") == \" + str(a+b) + \");\\n\")\n",
    "    \n",
    "    f.write(\"}\\n\")\n",
    "#Verus file\n",
    "f = open(\"VerusFile.rs\", \"w\")\n",
    "f.write(\"use vstd::prelude::*;\\n\\nverus! {\\n\\nspec fn add(x: int, y: int) -> int\\n\" + \n",
    "       \"{\\n\\tx+y\\n}\\n\\n\")\n",
    "VerRepeatWriteRandomAssert(f, 800)\n",
    "f.write(\"fn main() {\\n\\n}\\n}\\n\")\n",
    "f.close()"
   ]
  },
  {
   "cell_type": "code",
   "execution_count": null,
   "id": "d24277e7",
   "metadata": {},
   "outputs": [],
   "source": []
  }
 ],
 "metadata": {
  "kernelspec": {
   "display_name": "Python 3 (ipykernel)",
   "language": "python",
   "name": "python3"
  },
  "language_info": {
   "codemirror_mode": {
    "name": "ipython",
    "version": 3
   },
   "file_extension": ".py",
   "mimetype": "text/x-python",
   "name": "python",
   "nbconvert_exporter": "python",
   "pygments_lexer": "ipython3",
   "version": "3.9.12"
  }
 },
 "nbformat": 4,
 "nbformat_minor": 5
}
